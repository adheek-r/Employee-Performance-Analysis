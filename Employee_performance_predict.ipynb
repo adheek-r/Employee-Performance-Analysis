{
  "nbformat": 4,
  "nbformat_minor": 0,
  "metadata": {
    "colab": {
      "provenance": []
    },
    "kernelspec": {
      "name": "python3",
      "display_name": "Python 3"
    },
    "language_info": {
      "name": "python"
    }
  },
  "cells": [
    {
      "cell_type": "markdown",
      "source": [
        "# **INX Future Inc Employee Performance - Project**\n",
        "* This python notebook contains the best prediction model of employees performance.\n",
        "* The model takes the various inputs(columns) based on enployees and gives the outpus as predicted performance score."
      ],
      "metadata": {
        "id": "WfLwgQZO0SSM"
      }
    },
    {
      "cell_type": "code",
      "execution_count": null,
      "metadata": {
        "id": "K7Gj3FAG3AVs"
      },
      "outputs": [],
      "source": [
        "import numpy as np\n",
        "import pandas as pd\n",
        "import matplotlib.pyplot as plt\n",
        "import seaborn as sns"
      ]
    },
    {
      "cell_type": "code",
      "source": [
        "import numpy as np\n",
        "import joblib\n",
        "\n",
        "loaded_model = joblib.load('best_random_forest_model.pkl')"
      ],
      "metadata": {
        "id": "O1h-bkgU3Fmj"
      },
      "execution_count": null,
      "outputs": []
    },
    {
      "cell_type": "code",
      "source": [
        "def predict_employee_status(features):\n",
        "    features = np.array(features).reshape(1, -1)\n",
        "\n",
        "    prediction = loaded_model.predict(features)\n",
        "\n",
        "    return prediction"
      ],
      "metadata": {
        "id": "2siPiSVi7XL_"
      },
      "execution_count": null,
      "outputs": []
    },
    {
      "cell_type": "code",
      "source": [
        "def get_user_input():\n",
        "    age = float(input(\"Enter Age: \"))\n",
        "    dist_from_home = float(input(\"Enter Distance from Home: \"))\n",
        "    edu_level = float(input(\"Enter Education Level (1-5): \"))\n",
        "    env_satisfaction = float(input(\"Enter Environment Satisfaction (1-4): \"))\n",
        "    hourly_rate = float(input(\"Enter Hourly Rate: \"))\n",
        "    job_involvement = float(input(\"Enter Job Involvement (1-4): \"))\n",
        "    job_level = float(input(\"Enter Job Level: \"))\n",
        "    job_satisfaction = float(input(\"Enter Job Satisfaction (1-4): \"))\n",
        "    num_companies_worked = float(input(\"Enter Number of Companies Worked: \"))\n",
        "    last_salary_hike = float(input(\"Enter Last Salary Hike (%): \"))\n",
        "    relationship_satisfaction = float(input(\"Enter Relationship Satisfaction (1-4): \"))\n",
        "    total_work_experience = float(input(\"Enter Total Work Experience (Years): \"))\n",
        "    training_times_last_year = float(input(\"Enter Training Times Last Year: \"))\n",
        "    work_life_balance = float(input(\"Enter Work-Life Balance (1-4): \"))\n",
        "    exp_years_at_company = float(input(\"Enter Experience Years at This Company: \"))\n",
        "    exp_years_in_current_role = float(input(\"Enter Experience Years in Current Role: \"))\n",
        "    last_promotion_years = float(input(\"Enter Years Since Last Promotion: \"))\n",
        "    curr_manager_years = float(input(\"Enter Years with Current Manager: \"))\n",
        "\n",
        "    # Encoding the categorical columns\n",
        "    edu_bg = str(input(\"Enter Education Background: \"))\n",
        "    edu_bg_dict = {\n",
        "        'Life Sciences': [1.0, 0.0, 0.0, 0.0, 0.0],\n",
        "        'Marketing': [0.0, 1.0, 0.0, 0.0, 0.0],\n",
        "        'Medical': [0.0, 0.0, 1.0, 0.0, 0.0],\n",
        "        'Other': [0.0, 0.0, 0.0, 1.0, 0.0],\n",
        "        'Technical Degree': [0.0, 0.0, 0.0, 0.0, 1.0]\n",
        "    }\n",
        "    EduBg_Life_Sciences, EduBg_Marketing, EduBg_Medical, EduBg_Other, EduBg_Technical_Degree = edu_bg_dict.get(edu_bg, [0.0, 0.0, 0.0, 0.0, 0.0])\n",
        "\n",
        "    job_role = str(input(\"Enter the job role: \"))\n",
        "    job_role_dict = {\n",
        "        'Data Scientist':           [1.0, 0.0, 0.0, 0.0, 0.0, 0.0, 0.0, 0.0, 0.0, 0.0, 0.0, 0.0, 0.0, 0.0, 0.0, 0.0, 0.0, 0.0],\n",
        "        'Delivery Manager':\t        [0.0, 1.0, 0.0, 0.0, 0.0, 0.0, 0.0, 0.0, 0.0, 0.0, 0.0, 0.0, 0.0, 0.0, 0.0, 0.0, 0.0, 0.0],\n",
        "        'Developer':\t            [0.0, 0.0, 1.0, 0.0, 0.0, 0.0, 0.0, 0.0, 0.0, 0.0, 0.0, 0.0, 0.0, 0.0, 0.0, 0.0, 0.0, 0.0],\n",
        "        'Finance Manager':\t        [0.0, 0.0, 0.0, 1.0, 0.0, 0.0, 0.0, 0.0, 0.0, 0.0, 0.0, 0.0, 0.0, 0.0, 0.0, 0.0, 0.0, 0.0],\n",
        "        'Healthcare Representative':[0.0, 0.0, 0.0, 0.0, 1.0, 0.0, 0.0, 0.0, 0.0, 0.0, 0.0, 0.0, 0.0, 0.0, 0.0, 0.0, 0.0, 0.0],\n",
        "        'Human Resources':\t        [0.0, 0.0, 0.0, 0.0, 0.0, 1.0, 0.0, 0.0, 0.0, 0.0, 0.0, 0.0, 0.0, 0.0, 0.0, 0.0, 0.0, 0.0],\n",
        "        'Laboratory Technician':\t[0.0, 0.0, 0.0, 0.0, 0.0, 0.0, 1.0, 0.0, 0.0, 0.0, 0.0, 0.0, 0.0, 0.0, 0.0, 0.0, 0.0, 0.0],\n",
        "        'Manager':\t                [0.0, 0.0, 0.0, 0.0, 0.0, 0.0, 0.0, 1.0, 0.0, 0.0, 0.0, 0.0, 0.0, 0.0, 0.0, 0.0, 0.0, 0.0],\n",
        "        'Manager R&D':\t            [0.0, 0.0, 0.0, 0.0, 0.0, 0.0, 0.0, 0.0, 1.0, 0.0, 0.0, 0.0, 0.0, 0.0, 0.0, 0.0, 0.0, 0.0],\n",
        "        'Manufacturing Director':\t[0.0, 0.0, 0.0, 0.0, 0.0, 0.0, 0.0, 0.0, 0.0, 1.0, 0.0, 0.0, 0.0, 0.0, 0.0, 0.0, 0.0, 0.0],\n",
        "        'Research Director':\t    [0.0, 0.0, 0.0, 0.0, 0.0, 0.0, 0.0, 0.0, 0.0, 0.0, 1.0, 0.0, 0.0, 0.0, 0.0, 0.0, 0.0, 0.0],\n",
        "        'Research Scientist':\t    [0.0, 0.0, 0.0, 0.0, 0.0, 0.0, 0.0, 0.0, 0.0, 0.0, 0.0, 1.0, 0.0, 0.0, 0.0, 0.0, 0.0, 0.0],\n",
        "        'Sales Executive':\t        [0.0, 0.0, 0.0, 0.0, 0.0, 0.0, 0.0, 0.0, 0.0, 0.0, 0.0, 0.0, 1.0, 0.0, 0.0, 0.0, 0.0, 0.0],\n",
        "        'Sales Representative':     [0.0, 0.0, 0.0, 0.0, 0.0, 0.0, 0.0, 0.0, 0.0, 0.0, 0.0, 0.0, 0.0, 1.0, 0.0, 0.0, 0.0, 0.0],\n",
        "        'Senior Developer':         [0.0, 0.0, 0.0, 0.0, 0.0, 0.0, 0.0, 0.0, 0.0, 0.0, 0.0, 0.0, 0.0, 0.0, 1.0, 0.0, 0.0, 0.0],\n",
        "        'Senior Manager R&D':       [0.0, 0.0, 0.0, 0.0, 0.0, 0.0, 0.0, 0.0, 0.0, 0.0, 0.0, 0.0, 0.0, 0.0, 0.0, 1.0, 0.0, 0.0],\n",
        "        'Technical Architect':      [0.0, 0.0, 0.0, 0.0, 0.0, 0.0, 0.0, 0.0, 0.0, 0.0, 0.0, 0.0, 0.0, 0.0, 0.0, 0.0, 1.0, 0.0],\n",
        "        'Technical Lead':           [0.0, 0.0, 0.0, 0.0, 0.0, 0.0, 0.0, 0.0, 0.0, 0.0, 0.0, 0.0, 0.0, 0.0, 0.0, 0.0, 0.0, 1.0]\n",
        "    }\n",
        "\n",
        "    job_role_vector = job_role_dict.get(job_role, [0.0] * 18)\n",
        "\n",
        "    over_time=str(input(\"Enter Over Time: \"))\n",
        "    if over_time==\"Yes\":\n",
        "        overtime_yes=1.0\n",
        "    else:\n",
        "        overtime_yes=0.0\n",
        "\n",
        "\n",
        "    return [\n",
        "        age, dist_from_home, edu_level, env_satisfaction, hourly_rate, job_involvement,\n",
        "        job_level, job_satisfaction, num_companies_worked, last_salary_hike, relationship_satisfaction,\n",
        "        total_work_experience, training_times_last_year, work_life_balance, exp_years_at_company,\n",
        "        exp_years_in_current_role, last_promotion_years, curr_manager_years,\n",
        "        EduBg_Life_Sciences, EduBg_Marketing, EduBg_Medical, EduBg_Other, EduBg_Technical_Degree,\n",
        "        *job_role_vector, overtime_yes\n",
        "    ]\n"
      ],
      "metadata": {
        "id": "WeS-0myvNAOd"
      },
      "execution_count": null,
      "outputs": []
    },
    {
      "cell_type": "markdown",
      "source": [
        "**Note:** Enter the categorical inputs exactly as mentioned in the dataset."
      ],
      "metadata": {
        "id": "KoJb-q_J26Vt"
      }
    },
    {
      "cell_type": "code",
      "source": [
        "input_data = get_user_input()\n",
        "\n",
        "# Predict the output\n",
        "predicted_output = predict_employee_status(input_data)\n",
        "print(f\"Predicted Output: {predicted_output}\")\n"
      ],
      "metadata": {
        "colab": {
          "base_uri": "https://localhost:8080/"
        },
        "id": "AAx_4QiRdzLG",
        "outputId": "e8e62af8-c21e-4258-d85a-f228b6754a43"
      },
      "execution_count": null,
      "outputs": [
        {
          "output_type": "stream",
          "name": "stdout",
          "text": [
            "Enter Age: 32\n",
            "Enter Distance from Home: 10\n",
            "Enter Education Level (1-5): 3\n",
            "Enter Environment Satisfaction (1-4): 4\n",
            "Enter Hourly Rate: 55\n",
            "Enter Job Involvement (1-4): 3\n",
            "Enter Job Level: 2\n",
            "Enter Job Satisfaction (1-4): 4\n",
            "Enter Number of Companies Worked: 1\n",
            "Enter Last Salary Hike (%): 12\n",
            "Enter Relationship Satisfaction (1-4): 4\n",
            "Enter Total Work Experience (Years): 10\n",
            "Enter Training Times Last Year: 2\n",
            "Enter Work-Life Balance (1-4): 2\n",
            "Enter Experience Years at This Company: 10\n",
            "Enter Experience Years in Current Role: 7\n",
            "Enter Years Since Last Promotion: 0\n",
            "Enter Years with Current Manager: 8\n",
            "Enter Education Background: Marketing\n",
            "Enter the job role: Sales Executive\n",
            "Enter Over Time: No\n",
            "Predicted Output: [4]\n"
          ]
        }
      ]
    }
  ]
}